{
 "cells": [
  {
   "cell_type": "code",
   "execution_count": 1,
   "id": "e599fba6",
   "metadata": {},
   "outputs": [],
   "source": [
    "import torch \n",
    "import torch.nn as nn\n",
    "import torch.optim as optim\n",
    "from wgan import FE, Discriminator, Classifier, Wasserstein_Loss, Grad_Loss\n",
    "from tqdm import tqdm\n",
    "import os\n",
    "from scipy import io\n",
    "import numpy as np\n",
    "from sklearn.model_selection import train_test_split\n",
    "from torch.utils.data import DataLoader\n",
    "from torch.utils.data import TensorDataset"
   ]
  },
  {
   "cell_type": "code",
   "execution_count": 2,
   "id": "b13ff8bd",
   "metadata": {},
   "outputs": [
    {
     "data": {
      "text/plain": [
       "'/home/hun/바탕화면/AAI/WGAN'"
      ]
     },
     "execution_count": 2,
     "metadata": {},
     "output_type": "execute_result"
    }
   ],
   "source": [
    "import os\n",
    "os.getcwd()"
   ]
  },
  {
   "cell_type": "code",
   "execution_count": 3,
   "id": "ac6901c9",
   "metadata": {},
   "outputs": [
    {
     "name": "stdout",
     "output_type": "stream",
     "text": [
      "data path check\n",
      "s05.mat s08.mat s17.mat s07.mat s06.mat s27.mat s22.mat s10.mat s25.mat s20.mat s16.mat s15.mat s21.mat s03.mat s02.mat s31.mat s11.mat s12.mat s32.mat s13.mat s29.mat s09.mat s28.mat s01.mat s30.mat s14.mat s19.mat s26.mat s04.mat s18.mat s24.mat s23.mat "
     ]
    },
    {
     "name": "stderr",
     "output_type": "stream",
     "text": [
      "read data: 100%|██████████| 32/32 [00:19<00:00,  1.63it/s]\n"
     ]
    }
   ],
   "source": [
    "# path\n",
    "path = r'../data_preprocessed_matlab/'  # 경로는 저장 파일 경로\n",
    "file_list = os.listdir(path)\n",
    "\n",
    "print(\"data path check\")\n",
    "for i in file_list:    # 확인\n",
    "    print(i, end=' ')\n",
    "\n",
    "\n",
    "for i in tqdm(file_list, desc=\"read data\"): \n",
    "    mat_file = io.loadmat(path+i)\n",
    "    data = mat_file['data']\n",
    "    labels = np.array(mat_file['labels'])\n",
    "    val = labels.T[0].round().astype(np.int8)\n",
    "    aro = labels.T[1].round().astype(np.int8)\n",
    "    \n",
    "    if(i==\"s05.mat\"): \n",
    "        Data = data\n",
    "        VAL = val\n",
    "        ARO = aro\n",
    "        continue\n",
    "        \n",
    "    Data = np.concatenate((Data ,data),axis=0)   # 밑으로 쌓아서 하나로 만듬\n",
    "    VAL = np.concatenate((VAL ,val),axis=0)\n",
    "    ARO = np.concatenate((ARO ,aro),axis=0)"
   ]
  },
  {
   "cell_type": "code",
   "execution_count": 4,
   "id": "bb07831b",
   "metadata": {},
   "outputs": [
    {
     "name": "stderr",
     "output_type": "stream",
     "text": [
      "preprocess channel: 100%|██████████| 1280/1280 [00:00<00:00, 68220.00it/s]\n"
     ]
    }
   ],
   "source": [
    "# eeg preprocessing\n",
    "\n",
    "eeg_data = []\n",
    "peripheral_data = []\n",
    "\n",
    "for i in tqdm(range(len(Data)), desc=\"preprocess channel\"):\n",
    "    for j in range (40): \n",
    "        if(j < 32): # get channels 1 to 32\n",
    "            eeg_data.append(Data[i][j])\n",
    "        else:\n",
    "            peripheral_data.append(Data[i][j])\n",
    "\n",
    "# set data type, shape\n",
    "eeg_data = np.reshape(eeg_data, (len(Data),1,32, 8064))\n",
    "eeg_data = eeg_data.astype('float32')\n",
    "eeg_data32 = torch.from_numpy(eeg_data)\n",
    "VAL = (torch.from_numpy(VAL)).type(torch.long)"
   ]
  },
  {
   "cell_type": "code",
   "execution_count": 5,
   "id": "7317b521",
   "metadata": {},
   "outputs": [
    {
     "name": "stdout",
     "output_type": "stream",
     "text": [
      "data split\n",
      "make data loader\n"
     ]
    }
   ],
   "source": [
    "#data 40 x 40 x 8064 video/trial x channel x data\n",
    "#labels 40 x 4 video/trial x label (valence, arousal, dominance, liking)\n",
    "#32명 -> 12 / 12 / 8\n",
    "\n",
    "# data split\n",
    "print(\"data split\")\n",
    "train_data, val_data,train_label, val_label = train_test_split(eeg_data32, VAL, test_size=0.25)\n",
    "x_train, x_test, y_train, y_test = train_test_split(train_data, train_label, test_size=0.5)\n",
    "\n",
    "# make data loader\n",
    "print(\"make data loader\")\n",
    "target_dataset = TensorDataset(x_train, y_train)\n",
    "source_dataset = TensorDataset(x_test, y_test)\n",
    "val_dataset = TensorDataset(val_data, val_label)\n",
    "target_dataloader = DataLoader(target_dataset, 64, shuffle=True)\n",
    "source_dataloader = DataLoader(source_dataset, 64, shuffle=True)\n",
    "val_dataloader = DataLoader(val_dataset, 64, shuffle=True)"
   ]
  },
  {
   "cell_type": "code",
   "execution_count": 6,
   "id": "e540dabe",
   "metadata": {},
   "outputs": [
    {
     "name": "stdout",
     "output_type": "stream",
     "text": [
      "device:  cuda:0\n"
     ]
    }
   ],
   "source": [
    "# cuda\n",
    "device = torch.device('cuda:0' if torch.cuda.is_available() else 'cpu')\n",
    "print(\"device: \", device)\n",
    "\n",
    "#model\n",
    "dis = Discriminator(15960).to(device)\n",
    "fe = FE(32).to(device)\n",
    "classifier = Classifier().to(device)\n",
    "\n",
    "#optim\n",
    "optimizer_dis = optim.Adam(dis.parameters(),lr=0.0001,betas=(0,0.9))\n",
    "optimizer_fe = optim.Adam(fe.parameters(),lr=0.0001, betas=(0,0.0))\n",
    "optimizer_cls = optim.Adam(classifier.parameters(),lr=0.0001, betas=(0,0.9))\n",
    "\n",
    "#cls_loss\n",
    "criterion = nn.CrossEntropyLoss().to(device)"
   ]
  },
  {
   "cell_type": "code",
   "execution_count": 7,
   "id": "d973c9c7",
   "metadata": {},
   "outputs": [
    {
     "name": "stderr",
     "output_type": "stream",
     "text": [
      "  0%|          | 0/1000 [00:00<?, ?it/s]"
     ]
    },
    {
     "name": "stdout",
     "output_type": "stream",
     "text": [
      "1 : epoch\n"
     ]
    },
    {
     "name": "stderr",
     "output_type": "stream",
     "text": [
      "  0%|          | 1/1000 [00:15<4:23:20, 15.82s/it]"
     ]
    },
    {
     "name": "stdout",
     "output_type": "stream",
     "text": [
      "\n",
      "gloss -6.219282150268555\n",
      "wd_loss 0.4094912111759186\n",
      "cls_loss 2.165621042251587\n",
      "acc_t 0.044921875\n",
      "acc_s 0.099609375\n",
      "val_loss : 2.243357515335083\n",
      "acc_val : 0.059375\n",
      "\n",
      "2 : epoch\n"
     ]
    },
    {
     "name": "stderr",
     "output_type": "stream",
     "text": [
      "  0%|          | 2/1000 [00:31<4:17:17, 15.47s/it]"
     ]
    },
    {
     "name": "stdout",
     "output_type": "stream",
     "text": [
      "\n",
      "gloss -4.010986804962158\n",
      "wd_loss 0.8942652940750122\n",
      "cls_loss 2.1188952922821045\n",
      "acc_t 0.037109375\n",
      "acc_s 0.146484375\n",
      "val_loss : 2.247661018371582\n",
      "acc_val : 0.059375\n",
      "\n",
      "3 : epoch\n"
     ]
    },
    {
     "name": "stderr",
     "output_type": "stream",
     "text": [
      "  0%|          | 3/1000 [00:46<4:15:04, 15.35s/it]"
     ]
    },
    {
     "name": "stdout",
     "output_type": "stream",
     "text": [
      "\n",
      "gloss -3.928805112838745\n",
      "wd_loss 1.3024367094039917\n",
      "cls_loss 2.0865671634674072\n",
      "acc_t 0.041015625\n",
      "acc_s 0.189453125\n",
      "val_loss : 2.2503774642944334\n",
      "acc_val : 0.059375\n",
      "\n",
      "4 : epoch\n"
     ]
    },
    {
     "name": "stderr",
     "output_type": "stream",
     "text": [
      "  0%|          | 4/1000 [01:01<4:13:20, 15.26s/it]"
     ]
    },
    {
     "name": "stdout",
     "output_type": "stream",
     "text": [
      "\n",
      "gloss -2.205061197280884\n",
      "wd_loss 1.68748140335083\n",
      "cls_loss 2.070878744125366\n",
      "acc_t 0.0390625\n",
      "acc_s 0.232421875\n",
      "val_loss : 2.2491321563720703\n",
      "acc_val : 0.0625\n",
      "\n",
      "5 : epoch\n"
     ]
    },
    {
     "name": "stderr",
     "output_type": "stream",
     "text": [
      "  0%|          | 5/1000 [01:16<4:12:15, 15.21s/it]"
     ]
    },
    {
     "name": "stdout",
     "output_type": "stream",
     "text": [
      "\n",
      "gloss -0.5243695974349976\n",
      "wd_loss 2.1519391536712646\n",
      "cls_loss 2.0527660846710205\n",
      "acc_t 0.048828125\n",
      "acc_s 0.263671875\n",
      "val_loss : 2.248411703109741\n",
      "acc_val : 0.065625\n",
      "\n",
      "6 : epoch\n"
     ]
    },
    {
     "name": "stderr",
     "output_type": "stream",
     "text": [
      "  1%|          | 6/1000 [01:31<4:11:36, 15.19s/it]"
     ]
    },
    {
     "name": "stdout",
     "output_type": "stream",
     "text": [
      "\n",
      "gloss 3.659914493560791\n",
      "wd_loss 2.915865182876587\n",
      "cls_loss 2.0374057292938232\n",
      "acc_t 0.048828125\n",
      "acc_s 0.3046875\n",
      "val_loss : 2.245560884475708\n",
      "acc_val : 0.065625\n",
      "\n",
      "7 : epoch\n"
     ]
    },
    {
     "name": "stderr",
     "output_type": "stream",
     "text": [
      "  1%|          | 7/1000 [01:46<4:10:47, 15.15s/it]"
     ]
    },
    {
     "name": "stdout",
     "output_type": "stream",
     "text": [
      "\n",
      "gloss 3.386341094970703\n",
      "wd_loss 3.741833209991455\n",
      "cls_loss 2.01908278465271\n",
      "acc_t 0.046875\n",
      "acc_s 0.3359375\n",
      "val_loss : 2.244804048538208\n",
      "acc_val : 0.065625\n",
      "\n",
      "8 : epoch\n"
     ]
    },
    {
     "name": "stderr",
     "output_type": "stream",
     "text": [
      "  1%|          | 8/1000 [02:01<4:10:21, 15.14s/it]"
     ]
    },
    {
     "name": "stdout",
     "output_type": "stream",
     "text": [
      "\n",
      "gloss 0.7116458415985107\n",
      "wd_loss 4.3877458572387695\n",
      "cls_loss 2.004072904586792\n",
      "acc_t 0.044921875\n",
      "acc_s 0.361328125\n",
      "val_loss : 2.2422183990478515\n",
      "acc_val : 0.065625\n",
      "\n",
      "9 : epoch\n"
     ]
    },
    {
     "name": "stderr",
     "output_type": "stream",
     "text": [
      "  1%|          | 9/1000 [02:16<4:09:59, 15.14s/it]"
     ]
    },
    {
     "name": "stdout",
     "output_type": "stream",
     "text": [
      "\n",
      "gloss 0.15572547912597656\n",
      "wd_loss 5.005131244659424\n",
      "cls_loss 2.0047788619995117\n",
      "acc_t 0.0390625\n",
      "acc_s 0.3671875\n",
      "val_loss : 2.2410067558288573\n",
      "acc_val : 0.065625\n",
      "\n",
      "10 : epoch\n"
     ]
    },
    {
     "name": "stderr",
     "output_type": "stream",
     "text": [
      "  1%|          | 10/1000 [02:32<4:09:52, 15.14s/it]"
     ]
    },
    {
     "name": "stdout",
     "output_type": "stream",
     "text": [
      "\n",
      "gloss -18.1685791015625\n",
      "wd_loss 5.700887680053711\n",
      "cls_loss 1.995687484741211\n",
      "acc_t 0.048828125\n",
      "acc_s 0.38671875\n",
      "val_loss : 2.240198564529419\n",
      "acc_val : 0.071875\n",
      "\n",
      "11 : epoch\n"
     ]
    },
    {
     "name": "stderr",
     "output_type": "stream",
     "text": [
      "  1%|          | 11/1000 [02:47<4:09:41, 15.15s/it]"
     ]
    },
    {
     "name": "stdout",
     "output_type": "stream",
     "text": [
      "\n",
      "gloss -64.01151275634766\n",
      "wd_loss 6.921267986297607\n",
      "cls_loss 1.9860751628875732\n",
      "acc_t 0.046875\n",
      "acc_s 0.390625\n",
      "val_loss : 2.2386740684509276\n",
      "acc_val : 0.075\n",
      "\n",
      "12 : epoch\n"
     ]
    },
    {
     "name": "stderr",
     "output_type": "stream",
     "text": [
      "  1%|          | 12/1000 [03:02<4:09:37, 15.16s/it]"
     ]
    },
    {
     "name": "stdout",
     "output_type": "stream",
     "text": [
      "\n",
      "gloss -135.78665161132812\n",
      "wd_loss 8.264023780822754\n",
      "cls_loss 1.9795933961868286\n",
      "acc_t 0.05078125\n",
      "acc_s 0.40234375\n",
      "val_loss : 2.2370927810668944\n",
      "acc_val : 0.071875\n",
      "\n",
      "13 : epoch\n"
     ]
    },
    {
     "name": "stderr",
     "output_type": "stream",
     "text": [
      "  1%|▏         | 13/1000 [03:17<4:09:16, 15.15s/it]"
     ]
    },
    {
     "name": "stdout",
     "output_type": "stream",
     "text": [
      "\n",
      "gloss -66.21538543701172\n",
      "wd_loss 9.365934371948242\n",
      "cls_loss 1.9623825550079346\n",
      "acc_t 0.0625\n",
      "acc_s 0.41015625\n",
      "val_loss : 2.238275098800659\n",
      "acc_val : 0.071875\n",
      "\n",
      "14 : epoch\n"
     ]
    },
    {
     "name": "stderr",
     "output_type": "stream",
     "text": [
      "  1%|▏         | 14/1000 [03:32<4:08:52, 15.14s/it]"
     ]
    },
    {
     "name": "stdout",
     "output_type": "stream",
     "text": [
      "\n",
      "gloss -192.61387634277344\n",
      "wd_loss 10.095184326171875\n",
      "cls_loss 1.9571596384048462\n",
      "acc_t 0.052734375\n",
      "acc_s 0.41796875\n",
      "val_loss : 2.2394955158233643\n",
      "acc_val : 0.06875\n",
      "\n",
      "15 : epoch\n"
     ]
    },
    {
     "name": "stderr",
     "output_type": "stream",
     "text": [
      "  2%|▏         | 15/1000 [03:47<4:08:33, 15.14s/it]"
     ]
    },
    {
     "name": "stdout",
     "output_type": "stream",
     "text": [
      "\n",
      "gloss -426.3749694824219\n",
      "wd_loss 12.088346481323242\n",
      "cls_loss 1.9428645372390747\n",
      "acc_t 0.060546875\n",
      "acc_s 0.44140625\n",
      "val_loss : 2.237738561630249\n",
      "acc_val : 0.084375\n",
      "\n",
      "16 : epoch\n"
     ]
    },
    {
     "name": "stderr",
     "output_type": "stream",
     "text": [
      "  2%|▏         | 16/1000 [04:03<4:08:20, 15.14s/it]"
     ]
    },
    {
     "name": "stdout",
     "output_type": "stream",
     "text": [
      "\n",
      "gloss -386.57916259765625\n",
      "wd_loss 13.569659233093262\n",
      "cls_loss 1.934916615486145\n",
      "acc_t 0.0546875\n",
      "acc_s 0.443359375\n",
      "val_loss : 2.2356035709381104\n",
      "acc_val : 0.08125\n",
      "\n",
      "17 : epoch\n"
     ]
    },
    {
     "name": "stderr",
     "output_type": "stream",
     "text": [
      "  2%|▏         | 17/1000 [04:18<4:08:04, 15.14s/it]"
     ]
    },
    {
     "name": "stdout",
     "output_type": "stream",
     "text": [
      "\n",
      "gloss -1221.398193359375\n",
      "wd_loss 14.715400695800781\n",
      "cls_loss 1.9325497150421143\n",
      "acc_t 0.060546875\n",
      "acc_s 0.451171875\n",
      "val_loss : 2.234473705291748\n",
      "acc_val : 0.071875\n",
      "\n",
      "18 : epoch\n"
     ]
    },
    {
     "name": "stderr",
     "output_type": "stream",
     "text": [
      "  2%|▏         | 18/1000 [04:33<4:08:01, 15.15s/it]"
     ]
    },
    {
     "name": "stdout",
     "output_type": "stream",
     "text": [
      "\n",
      "gloss -885.1934814453125\n",
      "wd_loss 16.26268768310547\n",
      "cls_loss 1.9263108968734741\n",
      "acc_t 0.060546875\n",
      "acc_s 0.46875\n",
      "val_loss : 2.2380990028381347\n",
      "acc_val : 0.078125\n",
      "\n",
      "19 : epoch\n"
     ]
    },
    {
     "name": "stderr",
     "output_type": "stream",
     "text": [
      "  2%|▏         | 19/1000 [04:48<4:07:37, 15.15s/it]"
     ]
    },
    {
     "name": "stdout",
     "output_type": "stream",
     "text": [
      "\n",
      "gloss -2408.59716796875\n",
      "wd_loss 18.80521583557129\n",
      "cls_loss 1.9243208169937134\n",
      "acc_t 0.060546875\n",
      "acc_s 0.455078125\n",
      "val_loss : 2.2381691455841066\n",
      "acc_val : 0.08125\n",
      "\n",
      "20 : epoch\n"
     ]
    },
    {
     "name": "stderr",
     "output_type": "stream",
     "text": [
      "  2%|▏         | 20/1000 [05:03<4:07:27, 15.15s/it]"
     ]
    },
    {
     "name": "stdout",
     "output_type": "stream",
     "text": [
      "\n",
      "gloss -1912.6168212890625\n",
      "wd_loss 20.589574813842773\n",
      "cls_loss 1.9142754077911377\n",
      "acc_t 0.05859375\n",
      "acc_s 0.474609375\n",
      "val_loss : 2.2360536575317385\n",
      "acc_val : 0.08125\n",
      "\n",
      "21 : epoch\n"
     ]
    },
    {
     "name": "stderr",
     "output_type": "stream",
     "text": [
      "  2%|▏         | 21/1000 [05:18<4:07:15, 15.15s/it]"
     ]
    },
    {
     "name": "stdout",
     "output_type": "stream",
     "text": [
      "\n",
      "gloss -2618.86865234375\n",
      "wd_loss 22.716209411621094\n",
      "cls_loss 1.9124232530593872\n",
      "acc_t 0.0546875\n",
      "acc_s 0.474609375\n",
      "val_loss : 2.2359854221343993\n",
      "acc_val : 0.090625\n",
      "\n",
      "22 : epoch\n"
     ]
    },
    {
     "name": "stderr",
     "output_type": "stream",
     "text": [
      "  2%|▏         | 22/1000 [05:33<4:06:54, 15.15s/it]"
     ]
    },
    {
     "name": "stdout",
     "output_type": "stream",
     "text": [
      "\n",
      "gloss -5590.71533203125\n",
      "wd_loss 25.617761611938477\n",
      "cls_loss 1.9059383869171143\n",
      "acc_t 0.05859375\n",
      "acc_s 0.48046875\n",
      "val_loss : 2.235266399383545\n",
      "acc_val : 0.084375\n",
      "\n",
      "23 : epoch\n"
     ]
    },
    {
     "name": "stderr",
     "output_type": "stream",
     "text": [
      "  2%|▏         | 23/1000 [05:49<4:06:35, 15.14s/it]"
     ]
    },
    {
     "name": "stdout",
     "output_type": "stream",
     "text": [
      "\n",
      "gloss -6633.8837890625\n",
      "wd_loss 26.498554229736328\n",
      "cls_loss 1.9032138586044312\n",
      "acc_t 0.07421875\n",
      "acc_s 0.486328125\n",
      "val_loss : 2.231446123123169\n",
      "acc_val : 0.075\n",
      "\n",
      "24 : epoch\n"
     ]
    },
    {
     "name": "stderr",
     "output_type": "stream",
     "text": [
      "  2%|▏         | 24/1000 [06:04<4:06:21, 15.15s/it]"
     ]
    },
    {
     "name": "stdout",
     "output_type": "stream",
     "text": [
      "\n",
      "gloss -11640.359375\n",
      "wd_loss 29.9429874420166\n",
      "cls_loss 1.906314730644226\n",
      "acc_t 0.056640625\n",
      "acc_s 0.47265625\n",
      "val_loss : 2.2344152450561525\n",
      "acc_val : 0.078125\n",
      "\n",
      "25 : epoch\n"
     ]
    },
    {
     "name": "stderr",
     "output_type": "stream",
     "text": [
      "  2%|▎         | 25/1000 [06:19<4:06:01, 15.14s/it]"
     ]
    },
    {
     "name": "stdout",
     "output_type": "stream",
     "text": [
      "\n",
      "gloss -7354.5498046875\n",
      "wd_loss 31.736339569091797\n",
      "cls_loss 1.89288330078125\n",
      "acc_t 0.068359375\n",
      "acc_s 0.48046875\n",
      "val_loss : 2.233854293823242\n",
      "acc_val : 0.096875\n",
      "\n",
      "26 : epoch\n"
     ]
    },
    {
     "name": "stderr",
     "output_type": "stream",
     "text": [
      "  3%|▎         | 26/1000 [06:34<4:05:49, 15.14s/it]"
     ]
    },
    {
     "name": "stdout",
     "output_type": "stream",
     "text": [
      "\n",
      "gloss -13343.34765625\n",
      "wd_loss 34.55559158325195\n",
      "cls_loss 1.8866894245147705\n",
      "acc_t 0.083984375\n",
      "acc_s 0.490234375\n",
      "val_loss : 2.2336291313171386\n",
      "acc_val : 0.10625\n",
      "\n",
      "27 : epoch\n"
     ]
    },
    {
     "name": "stderr",
     "output_type": "stream",
     "text": [
      "  3%|▎         | 27/1000 [06:49<4:05:31, 15.14s/it]"
     ]
    },
    {
     "name": "stdout",
     "output_type": "stream",
     "text": [
      "\n",
      "gloss -25819.84375\n",
      "wd_loss 37.84110641479492\n",
      "cls_loss 1.8800859451293945\n",
      "acc_t 0.064453125\n",
      "acc_s 0.482421875\n",
      "val_loss : 2.2382907390594484\n",
      "acc_val : 0.084375\n",
      "\n",
      "28 : epoch\n"
     ]
    },
    {
     "name": "stderr",
     "output_type": "stream",
     "text": [
      "  3%|▎         | 28/1000 [07:04<4:05:26, 15.15s/it]"
     ]
    },
    {
     "name": "stdout",
     "output_type": "stream",
     "text": [
      "\n",
      "gloss -30482.388671875\n",
      "wd_loss 41.05496597290039\n",
      "cls_loss 1.883509635925293\n",
      "acc_t 0.07421875\n",
      "acc_s 0.4921875\n",
      "val_loss : 2.2370689868927003\n",
      "acc_val : 0.0875\n",
      "\n",
      "29 : epoch\n"
     ]
    },
    {
     "name": "stderr",
     "output_type": "stream",
     "text": [
      "  3%|▎         | 29/1000 [07:19<4:05:04, 15.14s/it]"
     ]
    },
    {
     "name": "stdout",
     "output_type": "stream",
     "text": [
      "\n",
      "gloss -35113.71875\n",
      "wd_loss 44.11396789550781\n",
      "cls_loss 1.8678442239761353\n",
      "acc_t 0.080078125\n",
      "acc_s 0.513671875\n",
      "val_loss : 2.235229825973511\n",
      "acc_val : 0.0875\n",
      "\n",
      "30 : epoch\n"
     ]
    },
    {
     "name": "stderr",
     "output_type": "stream",
     "text": [
      "  3%|▎         | 30/1000 [07:35<4:04:53, 15.15s/it]"
     ]
    },
    {
     "name": "stdout",
     "output_type": "stream",
     "text": [
      "\n",
      "gloss -38639.66796875\n",
      "wd_loss 46.795936584472656\n",
      "cls_loss 1.8696054220199585\n",
      "acc_t 0.078125\n",
      "acc_s 0.501953125\n",
      "val_loss : 2.2362411499023436\n",
      "acc_val : 0.084375\n",
      "\n",
      "31 : epoch\n"
     ]
    },
    {
     "name": "stderr",
     "output_type": "stream",
     "text": [
      "  3%|▎         | 31/1000 [07:50<4:04:32, 15.14s/it]"
     ]
    },
    {
     "name": "stdout",
     "output_type": "stream",
     "text": [
      "\n",
      "gloss -47560.69921875\n",
      "wd_loss 51.80742645263672\n",
      "cls_loss 1.8639473915100098\n",
      "acc_t 0.0703125\n",
      "acc_s 0.501953125\n",
      "val_loss : 2.2339430332183836\n",
      "acc_val : 0.084375\n",
      "\n",
      "32 : epoch\n"
     ]
    },
    {
     "name": "stderr",
     "output_type": "stream",
     "text": [
      "  3%|▎         | 32/1000 [08:05<4:04:25, 15.15s/it]"
     ]
    },
    {
     "name": "stdout",
     "output_type": "stream",
     "text": [
      "\n",
      "gloss -78083.421875\n",
      "wd_loss 53.45508575439453\n",
      "cls_loss 1.8589565753936768\n",
      "acc_t 0.0859375\n",
      "acc_s 0.49609375\n",
      "val_loss : 2.23126482963562\n",
      "acc_val : 0.090625\n",
      "\n",
      "33 : epoch\n"
     ]
    },
    {
     "name": "stderr",
     "output_type": "stream",
     "text": [
      "  3%|▎         | 33/1000 [08:20<4:04:05, 15.15s/it]"
     ]
    },
    {
     "name": "stdout",
     "output_type": "stream",
     "text": [
      "\n",
      "gloss -61901.28515625\n",
      "wd_loss 58.161415100097656\n",
      "cls_loss 1.8465087413787842\n",
      "acc_t 0.087890625\n",
      "acc_s 0.51953125\n",
      "val_loss : 2.229951190948486\n",
      "acc_val : 0.0875\n",
      "\n",
      "34 : epoch\n"
     ]
    },
    {
     "name": "stderr",
     "output_type": "stream",
     "text": [
      "  3%|▎         | 34/1000 [08:35<4:03:32, 15.13s/it]"
     ]
    },
    {
     "name": "stdout",
     "output_type": "stream",
     "text": [
      "\n",
      "gloss -82558.9609375\n",
      "wd_loss 60.52728271484375\n",
      "cls_loss 1.8396165370941162\n",
      "acc_t 0.076171875\n",
      "acc_s 0.501953125\n",
      "val_loss : 2.2302874088287354\n",
      "acc_val : 0.0875\n",
      "\n",
      "35 : epoch\n"
     ]
    },
    {
     "name": "stderr",
     "output_type": "stream",
     "text": [
      "  4%|▎         | 35/1000 [08:50<4:03:18, 15.13s/it]"
     ]
    },
    {
     "name": "stdout",
     "output_type": "stream",
     "text": [
      "\n",
      "gloss -121722.6875\n",
      "wd_loss 64.49632263183594\n",
      "cls_loss 1.8459086418151855\n",
      "acc_t 0.083984375\n",
      "acc_s 0.51171875\n",
      "val_loss : 2.2303934574127195\n",
      "acc_val : 0.078125\n",
      "\n",
      "36 : epoch\n"
     ]
    },
    {
     "name": "stderr",
     "output_type": "stream",
     "text": [
      "  4%|▎         | 36/1000 [09:05<4:03:11, 15.14s/it]"
     ]
    },
    {
     "name": "stdout",
     "output_type": "stream",
     "text": [
      "\n",
      "gloss -133050.578125\n",
      "wd_loss 68.568603515625\n",
      "cls_loss 1.8426494598388672\n",
      "acc_t 0.091796875\n",
      "acc_s 0.52734375\n",
      "val_loss : 2.226737880706787\n",
      "acc_val : 0.096875\n",
      "\n",
      "37 : epoch\n"
     ]
    },
    {
     "name": "stderr",
     "output_type": "stream",
     "text": [
      "  4%|▎         | 37/1000 [09:20<4:02:44, 15.12s/it]"
     ]
    },
    {
     "name": "stdout",
     "output_type": "stream",
     "text": [
      "\n",
      "gloss -184985.8125\n",
      "wd_loss 72.33611297607422\n",
      "cls_loss 1.8202409744262695\n",
      "acc_t 0.103515625\n",
      "acc_s 0.576171875\n",
      "val_loss : 2.224970293045044\n",
      "acc_val : 0.11875\n",
      "\n",
      "38 : epoch\n"
     ]
    },
    {
     "name": "stderr",
     "output_type": "stream",
     "text": [
      "  4%|▍         | 38/1000 [09:36<4:02:31, 15.13s/it]"
     ]
    },
    {
     "name": "stdout",
     "output_type": "stream",
     "text": [
      "\n",
      "gloss -157378.375\n",
      "wd_loss 75.4693832397461\n",
      "cls_loss 1.8209388256072998\n",
      "acc_t 0.103515625\n",
      "acc_s 0.552734375\n",
      "val_loss : 2.2314943790435793\n",
      "acc_val : 0.090625\n",
      "\n",
      "39 : epoch\n"
     ]
    },
    {
     "name": "stderr",
     "output_type": "stream",
     "text": [
      "  4%|▍         | 39/1000 [09:51<4:02:15, 15.13s/it]"
     ]
    },
    {
     "name": "stdout",
     "output_type": "stream",
     "text": [
      "\n",
      "gloss -186627.90625\n",
      "wd_loss 79.16190338134766\n",
      "cls_loss 1.8468639850616455\n",
      "acc_t 0.08203125\n",
      "acc_s 0.509765625\n",
      "val_loss : 2.235993528366089\n",
      "acc_val : 0.084375\n",
      "\n",
      "40 : epoch\n"
     ]
    },
    {
     "name": "stderr",
     "output_type": "stream",
     "text": [
      "  4%|▍         | 40/1000 [10:06<4:01:51, 15.12s/it]"
     ]
    },
    {
     "name": "stdout",
     "output_type": "stream",
     "text": [
      "\n",
      "gloss -214705.953125\n",
      "wd_loss 81.70838928222656\n",
      "cls_loss 1.8437596559524536\n",
      "acc_t 0.087890625\n",
      "acc_s 0.515625\n",
      "val_loss : 2.2338488578796385\n",
      "acc_val : 0.09375\n",
      "\n",
      "41 : epoch\n"
     ]
    },
    {
     "name": "stderr",
     "output_type": "stream",
     "text": [
      "  4%|▍         | 41/1000 [10:21<4:01:35, 15.12s/it]"
     ]
    },
    {
     "name": "stdout",
     "output_type": "stream",
     "text": [
      "\n",
      "gloss -285317.40625\n",
      "wd_loss 84.15269470214844\n",
      "cls_loss 1.828176736831665\n",
      "acc_t 0.083984375\n",
      "acc_s 0.578125\n",
      "val_loss : 2.232428026199341\n",
      "acc_val : 0.096875\n",
      "\n",
      "42 : epoch\n"
     ]
    },
    {
     "name": "stderr",
     "output_type": "stream",
     "text": [
      "  4%|▍         | 42/1000 [10:36<4:01:12, 15.11s/it]"
     ]
    },
    {
     "name": "stdout",
     "output_type": "stream",
     "text": [
      "\n",
      "gloss -288974.6875\n",
      "wd_loss 91.84725952148438\n",
      "cls_loss 1.7958301305770874\n",
      "acc_t 0.115234375\n",
      "acc_s 0.607421875\n",
      "val_loss : 2.2366692066192626\n",
      "acc_val : 0.090625\n",
      "\n",
      "43 : epoch\n"
     ]
    },
    {
     "name": "stderr",
     "output_type": "stream",
     "text": [
      "  4%|▍         | 43/1000 [10:51<4:00:58, 15.11s/it]"
     ]
    },
    {
     "name": "stdout",
     "output_type": "stream",
     "text": [
      "\n",
      "gloss -263575.15625\n",
      "wd_loss 94.89556884765625\n",
      "cls_loss 1.7969292402267456\n",
      "acc_t 0.08984375\n",
      "acc_s 0.576171875\n",
      "val_loss : 2.2414605617523193\n",
      "acc_val : 0.084375\n",
      "\n",
      "44 : epoch\n"
     ]
    },
    {
     "name": "stderr",
     "output_type": "stream",
     "text": [
      "  4%|▍         | 44/1000 [11:06<4:00:53, 15.12s/it]"
     ]
    },
    {
     "name": "stdout",
     "output_type": "stream",
     "text": [
      "\n",
      "gloss -400696.03125\n",
      "wd_loss 98.05339050292969\n",
      "cls_loss 1.8316813707351685\n",
      "acc_t 0.072265625\n",
      "acc_s 0.52734375\n",
      "val_loss : 2.2382522583007813\n",
      "acc_val : 0.09375\n",
      "\n",
      "45 : epoch\n"
     ]
    },
    {
     "name": "stderr",
     "output_type": "stream",
     "text": [
      "  4%|▍         | 45/1000 [11:21<4:00:49, 15.13s/it]"
     ]
    },
    {
     "name": "stdout",
     "output_type": "stream",
     "text": [
      "\n",
      "gloss -648477.0\n",
      "wd_loss 105.38314819335938\n",
      "cls_loss 1.8124423027038574\n",
      "acc_t 0.078125\n",
      "acc_s 0.55078125\n",
      "val_loss : 2.2321247100830077\n",
      "acc_val : 0.08125\n",
      "\n",
      "46 : epoch\n"
     ]
    },
    {
     "name": "stderr",
     "output_type": "stream",
     "text": [
      "  5%|▍         | 46/1000 [11:37<4:00:28, 15.12s/it]"
     ]
    },
    {
     "name": "stdout",
     "output_type": "stream",
     "text": [
      "\n",
      "gloss -396589.0\n",
      "wd_loss 108.26069641113281\n",
      "cls_loss 1.8043084144592285\n",
      "acc_t 0.095703125\n",
      "acc_s 0.595703125\n",
      "val_loss : 2.2287286281585694\n",
      "acc_val : 0.109375\n",
      "\n",
      "47 : epoch\n"
     ]
    },
    {
     "name": "stderr",
     "output_type": "stream",
     "text": [
      "  5%|▍         | 47/1000 [11:52<4:00:12, 15.12s/it]"
     ]
    },
    {
     "name": "stdout",
     "output_type": "stream",
     "text": [
      "\n",
      "gloss -878574.125\n",
      "wd_loss 114.04165649414062\n",
      "cls_loss 1.7753745317459106\n",
      "acc_t 0.10546875\n",
      "acc_s 0.591796875\n",
      "val_loss : 2.232746934890747\n",
      "acc_val : 0.103125\n",
      "\n",
      "48 : epoch\n"
     ]
    },
    {
     "name": "stderr",
     "output_type": "stream",
     "text": [
      "  5%|▍         | 48/1000 [12:07<3:59:58, 15.12s/it]"
     ]
    },
    {
     "name": "stdout",
     "output_type": "stream",
     "text": [
      "\n",
      "gloss -1003248.5625\n",
      "wd_loss 118.330810546875\n",
      "cls_loss 1.7873759269714355\n",
      "acc_t 0.08984375\n",
      "acc_s 0.572265625\n",
      "val_loss : 2.231401538848877\n",
      "acc_val : 0.103125\n",
      "\n",
      "49 : epoch\n"
     ]
    },
    {
     "name": "stderr",
     "output_type": "stream",
     "text": [
      "  5%|▍         | 49/1000 [12:22<3:59:39, 15.12s/it]"
     ]
    },
    {
     "name": "stdout",
     "output_type": "stream",
     "text": [
      "\n",
      "gloss -606913.3125\n",
      "wd_loss 122.7668228149414\n",
      "cls_loss 1.7977852821350098\n",
      "acc_t 0.0859375\n",
      "acc_s 0.58203125\n",
      "val_loss : 2.2330856800079344\n",
      "acc_val : 0.09375\n",
      "\n",
      "50 : epoch\n"
     ]
    },
    {
     "name": "stderr",
     "output_type": "stream",
     "text": [
      "  5%|▌         | 50/1000 [12:37<3:59:23, 15.12s/it]"
     ]
    },
    {
     "name": "stdout",
     "output_type": "stream",
     "text": [
      "\n",
      "gloss -1178546.5\n",
      "wd_loss 130.3976287841797\n",
      "cls_loss 1.787593126296997\n",
      "acc_t 0.080078125\n",
      "acc_s 0.5859375\n",
      "val_loss : 2.235830068588257\n",
      "acc_val : 0.096875\n",
      "\n",
      "51 : epoch\n"
     ]
    },
    {
     "name": "stderr",
     "output_type": "stream",
     "text": [
      "  5%|▌         | 51/1000 [12:52<3:59:20, 15.13s/it]"
     ]
    },
    {
     "name": "stdout",
     "output_type": "stream",
     "text": [
      "\n",
      "gloss -1167830.375\n",
      "wd_loss 128.57473754882812\n",
      "cls_loss 1.78971266746521\n",
      "acc_t 0.091796875\n",
      "acc_s 0.583984375\n",
      "val_loss : 2.239219331741333\n",
      "acc_val : 0.09375\n",
      "\n",
      "52 : epoch\n"
     ]
    },
    {
     "name": "stderr",
     "output_type": "stream",
     "text": [
      "  5%|▌         | 52/1000 [13:07<3:58:56, 15.12s/it]"
     ]
    },
    {
     "name": "stdout",
     "output_type": "stream",
     "text": [
      "\n",
      "gloss -986611.8125\n",
      "wd_loss 138.199951171875\n",
      "cls_loss 1.7730190753936768\n",
      "acc_t 0.115234375\n",
      "acc_s 0.59375\n",
      "val_loss : 2.236942005157471\n",
      "acc_val : 0.1\n",
      "\n",
      "53 : epoch\n"
     ]
    },
    {
     "name": "stderr",
     "output_type": "stream",
     "text": [
      "  5%|▌         | 53/1000 [13:22<3:58:35, 15.12s/it]"
     ]
    },
    {
     "name": "stdout",
     "output_type": "stream",
     "text": [
      "\n",
      "gloss -1087450.75\n",
      "wd_loss 144.49276733398438\n",
      "cls_loss 1.768756628036499\n",
      "acc_t 0.10546875\n",
      "acc_s 0.5859375\n",
      "val_loss : 2.2344104290008544\n",
      "acc_val : 0.10625\n",
      "\n",
      "54 : epoch\n"
     ]
    },
    {
     "name": "stderr",
     "output_type": "stream",
     "text": [
      "  5%|▌         | 54/1000 [13:37<3:58:17, 15.11s/it]"
     ]
    },
    {
     "name": "stdout",
     "output_type": "stream",
     "text": [
      "\n",
      "gloss -1348959.625\n",
      "wd_loss 147.3529052734375\n",
      "cls_loss 1.7818659543991089\n",
      "acc_t 0.08984375\n",
      "acc_s 0.576171875\n",
      "val_loss : 2.2341258049011232\n",
      "acc_val : 0.10625\n",
      "\n",
      "55 : epoch\n"
     ]
    },
    {
     "name": "stderr",
     "output_type": "stream",
     "text": [
      "  6%|▌         | 55/1000 [13:53<3:57:59, 15.11s/it]"
     ]
    },
    {
     "name": "stdout",
     "output_type": "stream",
     "text": [
      "\n",
      "gloss -2444905.75\n",
      "wd_loss 160.0980682373047\n",
      "cls_loss 1.7612905502319336\n",
      "acc_t 0.09765625\n",
      "acc_s 0.59765625\n",
      "val_loss : 2.233092451095581\n",
      "acc_val : 0.115625\n",
      "\n",
      "56 : epoch\n"
     ]
    },
    {
     "name": "stderr",
     "output_type": "stream",
     "text": [
      "  6%|▌         | 56/1000 [14:08<3:57:46, 15.11s/it]"
     ]
    },
    {
     "name": "stdout",
     "output_type": "stream",
     "text": [
      "\n",
      "gloss -1946826.5\n",
      "wd_loss 161.70260620117188\n",
      "cls_loss 1.7612553834915161\n",
      "acc_t 0.119140625\n",
      "acc_s 0.58984375\n",
      "val_loss : 2.228915882110596\n",
      "acc_val : 0.140625\n",
      "\n",
      "57 : epoch\n"
     ]
    },
    {
     "name": "stderr",
     "output_type": "stream",
     "text": [
      "  6%|▌         | 57/1000 [14:23<3:57:30, 15.11s/it]"
     ]
    },
    {
     "name": "stdout",
     "output_type": "stream",
     "text": [
      "\n",
      "gloss -2138193.25\n",
      "wd_loss 168.53280639648438\n",
      "cls_loss 1.7421059608459473\n",
      "acc_t 0.134765625\n",
      "acc_s 0.615234375\n",
      "val_loss : 2.2231271266937256\n",
      "acc_val : 0.128125\n",
      "\n",
      "58 : epoch\n"
     ]
    },
    {
     "name": "stderr",
     "output_type": "stream",
     "text": [
      "  6%|▌         | 58/1000 [14:38<3:57:22, 15.12s/it]"
     ]
    },
    {
     "name": "stdout",
     "output_type": "stream",
     "text": [
      "\n",
      "gloss -2890705.5\n",
      "wd_loss 172.07089233398438\n",
      "cls_loss 1.7379209995269775\n",
      "acc_t 0.125\n",
      "acc_s 0.609375\n",
      "val_loss : 2.224172019958496\n",
      "acc_val : 0.13125\n",
      "\n",
      "59 : epoch\n"
     ]
    },
    {
     "name": "stderr",
     "output_type": "stream",
     "text": [
      "  6%|▌         | 59/1000 [14:53<3:57:15, 15.13s/it]"
     ]
    },
    {
     "name": "stdout",
     "output_type": "stream",
     "text": [
      "\n",
      "gloss -3935441.25\n",
      "wd_loss 182.43386840820312\n",
      "cls_loss 1.7328921556472778\n",
      "acc_t 0.1171875\n",
      "acc_s 0.61328125\n",
      "val_loss : 2.22367787361145\n",
      "acc_val : 0.1125\n",
      "\n",
      "60 : epoch\n"
     ]
    },
    {
     "name": "stderr",
     "output_type": "stream",
     "text": [
      "  6%|▌         | 60/1000 [15:08<3:57:00, 15.13s/it]"
     ]
    },
    {
     "name": "stdout",
     "output_type": "stream",
     "text": [
      "\n",
      "gloss -3806654.75\n",
      "wd_loss 187.77000427246094\n",
      "cls_loss 1.74979567527771\n",
      "acc_t 0.109375\n",
      "acc_s 0.59765625\n",
      "val_loss : 2.2275405406951903\n",
      "acc_val : 0.1125\n",
      "\n",
      "61 : epoch\n"
     ]
    },
    {
     "name": "stderr",
     "output_type": "stream",
     "text": [
      "  6%|▌         | 61/1000 [15:23<3:57:16, 15.16s/it]"
     ]
    },
    {
     "name": "stdout",
     "output_type": "stream",
     "text": [
      "\n",
      "gloss -4795406.5\n",
      "wd_loss 196.85678100585938\n",
      "cls_loss 1.729100227355957\n",
      "acc_t 0.115234375\n",
      "acc_s 0.62109375\n",
      "val_loss : 2.2274269580841066\n",
      "acc_val : 0.125\n",
      "\n",
      "62 : epoch\n"
     ]
    },
    {
     "name": "stderr",
     "output_type": "stream",
     "text": [
      "  6%|▌         | 62/1000 [15:39<3:57:26, 15.19s/it]"
     ]
    },
    {
     "name": "stdout",
     "output_type": "stream",
     "text": [
      "\n",
      "gloss -2600251.75\n",
      "wd_loss 207.16580200195312\n",
      "cls_loss 1.6968010663986206\n",
      "acc_t 0.115234375\n",
      "acc_s 0.66015625\n",
      "val_loss : 2.2264544010162353\n",
      "acc_val : 0.128125\n",
      "\n",
      "63 : epoch\n"
     ]
    },
    {
     "name": "stderr",
     "output_type": "stream",
     "text": [
      "  6%|▋         | 63/1000 [15:54<3:57:02, 15.18s/it]"
     ]
    },
    {
     "name": "stdout",
     "output_type": "stream",
     "text": [
      "\n",
      "gloss -5198238.5\n",
      "wd_loss 211.4051055908203\n",
      "cls_loss 1.6799423694610596\n",
      "acc_t 0.13671875\n",
      "acc_s 0.662109375\n",
      "val_loss : 2.219622564315796\n",
      "acc_val : 0.146875\n",
      "\n",
      "64 : epoch\n"
     ]
    },
    {
     "name": "stderr",
     "output_type": "stream",
     "text": [
      "  6%|▋         | 64/1000 [16:09<3:56:45, 15.18s/it]"
     ]
    },
    {
     "name": "stdout",
     "output_type": "stream",
     "text": [
      "\n",
      "gloss -3813347.75\n",
      "wd_loss 220.2966766357422\n",
      "cls_loss 1.680465579032898\n",
      "acc_t 0.13671875\n",
      "acc_s 0.666015625\n",
      "val_loss : 2.212794876098633\n",
      "acc_val : 0.14375\n",
      "\n",
      "65 : epoch\n"
     ]
    },
    {
     "name": "stderr",
     "output_type": "stream",
     "text": [
      "  6%|▋         | 65/1000 [16:24<3:56:31, 15.18s/it]"
     ]
    },
    {
     "name": "stdout",
     "output_type": "stream",
     "text": [
      "\n",
      "gloss -4910021.0\n",
      "wd_loss 230.5958251953125\n",
      "cls_loss 1.7053824663162231\n",
      "acc_t 0.130859375\n",
      "acc_s 0.640625\n",
      "val_loss : 2.2149919509887694\n",
      "acc_val : 0.128125\n",
      "\n",
      "66 : epoch\n"
     ]
    },
    {
     "name": "stderr",
     "output_type": "stream",
     "text": [
      "  7%|▋         | 66/1000 [16:39<3:56:08, 15.17s/it]"
     ]
    },
    {
     "name": "stdout",
     "output_type": "stream",
     "text": [
      "\n",
      "gloss -6431249.5\n",
      "wd_loss 233.7766876220703\n",
      "cls_loss 1.718130350112915\n",
      "acc_t 0.12109375\n",
      "acc_s 0.623046875\n",
      "val_loss : 2.2142574787139893\n",
      "acc_val : 0.134375\n",
      "\n",
      "67 : epoch\n"
     ]
    },
    {
     "name": "stderr",
     "output_type": "stream",
     "text": [
      "  7%|▋         | 67/1000 [16:55<3:55:38, 15.15s/it]"
     ]
    },
    {
     "name": "stdout",
     "output_type": "stream",
     "text": [
      "\n",
      "gloss -6097180.5\n",
      "wd_loss 239.28439331054688\n",
      "cls_loss 1.6794805526733398\n",
      "acc_t 0.12109375\n",
      "acc_s 0.654296875\n",
      "val_loss : 2.2062800884246827\n",
      "acc_val : 0.15625\n",
      "\n",
      "68 : epoch\n"
     ]
    },
    {
     "name": "stderr",
     "output_type": "stream",
     "text": [
      "  7%|▋         | 68/1000 [17:10<3:55:26, 15.16s/it]"
     ]
    },
    {
     "name": "stdout",
     "output_type": "stream",
     "text": [
      "\n",
      "gloss -8155503.5\n",
      "wd_loss 242.97987365722656\n",
      "cls_loss 1.6488499641418457\n",
      "acc_t 0.140625\n",
      "acc_s 0.666015625\n",
      "val_loss : 2.1957441329956056\n",
      "acc_val : 0.15625\n",
      "\n",
      "69 : epoch\n"
     ]
    },
    {
     "name": "stderr",
     "output_type": "stream",
     "text": [
      "  7%|▋         | 69/1000 [17:25<3:55:07, 15.15s/it]"
     ]
    },
    {
     "name": "stdout",
     "output_type": "stream",
     "text": [
      "\n",
      "gloss -5865363.0\n",
      "wd_loss 255.46734619140625\n",
      "cls_loss 1.6291842460632324\n",
      "acc_t 0.140625\n",
      "acc_s 0.671875\n",
      "val_loss : 2.194205570220947\n",
      "acc_val : 0.159375\n",
      "\n",
      "70 : epoch\n"
     ]
    },
    {
     "name": "stderr",
     "output_type": "stream",
     "text": [
      "  7%|▋         | 70/1000 [17:40<3:54:50, 15.15s/it]"
     ]
    },
    {
     "name": "stdout",
     "output_type": "stream",
     "text": [
      "\n",
      "gloss -10149298.0\n",
      "wd_loss 257.9111328125\n",
      "cls_loss 1.6786028146743774\n",
      "acc_t 0.134765625\n",
      "acc_s 0.6328125\n",
      "val_loss : 2.1963059425354006\n",
      "acc_val : 0.14375\n",
      "\n",
      "71 : epoch\n"
     ]
    },
    {
     "name": "stderr",
     "output_type": "stream",
     "text": [
      "  7%|▋         | 71/1000 [17:55<3:54:43, 15.16s/it]"
     ]
    },
    {
     "name": "stdout",
     "output_type": "stream",
     "text": [
      "\n",
      "gloss -10219080.0\n",
      "wd_loss 271.9619445800781\n",
      "cls_loss 1.6839675903320312\n",
      "acc_t 0.1328125\n",
      "acc_s 0.646484375\n",
      "val_loss : 2.1991507053375243\n",
      "acc_val : 0.15625\n",
      "\n",
      "72 : epoch\n"
     ]
    },
    {
     "name": "stderr",
     "output_type": "stream",
     "text": [
      "  7%|▋         | 72/1000 [18:10<3:54:13, 15.14s/it]"
     ]
    },
    {
     "name": "stdout",
     "output_type": "stream",
     "text": [
      "\n",
      "gloss -12053357.0\n",
      "wd_loss 283.6622619628906\n",
      "cls_loss 1.671107530593872\n",
      "acc_t 0.14453125\n",
      "acc_s 0.64453125\n",
      "val_loss : 2.207352066040039\n",
      "acc_val : 0.134375\n",
      "\n",
      "73 : epoch\n"
     ]
    },
    {
     "name": "stderr",
     "output_type": "stream",
     "text": [
      "  7%|▋         | 73/1000 [18:25<3:53:58, 15.14s/it]"
     ]
    },
    {
     "name": "stdout",
     "output_type": "stream",
     "text": [
      "\n",
      "gloss -16571074.0\n",
      "wd_loss 282.1472473144531\n",
      "cls_loss 1.6633236408233643\n",
      "acc_t 0.125\n",
      "acc_s 0.701171875\n",
      "val_loss : 2.2140777111053467\n",
      "acc_val : 0.134375\n",
      "\n",
      "74 : epoch\n"
     ]
    },
    {
     "name": "stderr",
     "output_type": "stream",
     "text": [
      "  7%|▋         | 74/1000 [18:41<3:53:59, 15.16s/it]"
     ]
    },
    {
     "name": "stdout",
     "output_type": "stream",
     "text": [
      "\n",
      "gloss -12877227.0\n",
      "wd_loss 298.00360107421875\n",
      "cls_loss 1.6426513195037842\n",
      "acc_t 0.13671875\n",
      "acc_s 0.693359375\n",
      "val_loss : 2.21984486579895\n",
      "acc_val : 0.1375\n",
      "\n",
      "75 : epoch\n"
     ]
    },
    {
     "name": "stderr",
     "output_type": "stream",
     "text": [
      "  8%|▊         | 75/1000 [18:56<3:53:41, 15.16s/it]"
     ]
    },
    {
     "name": "stdout",
     "output_type": "stream",
     "text": [
      "\n",
      "gloss -13268559.0\n",
      "wd_loss 326.8150329589844\n",
      "cls_loss 1.598499059677124\n",
      "acc_t 0.13671875\n",
      "acc_s 0.701171875\n",
      "val_loss : 2.232092571258545\n",
      "acc_val : 0.146875\n",
      "\n",
      "76 : epoch\n"
     ]
    },
    {
     "name": "stderr",
     "output_type": "stream",
     "text": [
      "  8%|▊         | 76/1000 [19:11<3:53:11, 15.14s/it]"
     ]
    },
    {
     "name": "stdout",
     "output_type": "stream",
     "text": [
      "\n",
      "gloss -11616535.0\n",
      "wd_loss 325.8056640625\n",
      "cls_loss 1.6114771366119385\n",
      "acc_t 0.130859375\n",
      "acc_s 0.65625\n",
      "val_loss : 2.233233118057251\n",
      "acc_val : 0.153125\n",
      "\n",
      "77 : epoch\n"
     ]
    },
    {
     "name": "stderr",
     "output_type": "stream",
     "text": [
      "  8%|▊         | 77/1000 [19:26<3:53:02, 15.15s/it]"
     ]
    },
    {
     "name": "stdout",
     "output_type": "stream",
     "text": [
      "\n",
      "gloss -6299918.0\n",
      "wd_loss 332.07745361328125\n",
      "cls_loss 1.6227055788040161\n",
      "acc_t 0.142578125\n",
      "acc_s 0.65625\n",
      "val_loss : 2.2310932159423826\n",
      "acc_val : 0.15\n",
      "\n",
      "78 : epoch\n"
     ]
    },
    {
     "name": "stderr",
     "output_type": "stream",
     "text": [
      "  8%|▊         | 78/1000 [19:41<3:52:54, 15.16s/it]"
     ]
    },
    {
     "name": "stdout",
     "output_type": "stream",
     "text": [
      "\n",
      "gloss -20081092.0\n",
      "wd_loss 348.0567626953125\n",
      "cls_loss 1.6108171939849854\n",
      "acc_t 0.158203125\n",
      "acc_s 0.65234375\n",
      "val_loss : 2.2275837898254394\n",
      "acc_val : 0.140625\n",
      "\n",
      "79 : epoch\n"
     ]
    },
    {
     "name": "stderr",
     "output_type": "stream",
     "text": [
      "  8%|▊         | 79/1000 [19:56<3:53:04, 15.18s/it]"
     ]
    },
    {
     "name": "stdout",
     "output_type": "stream",
     "text": [
      "\n",
      "gloss -23408672.0\n",
      "wd_loss 357.96435546875\n",
      "cls_loss 1.631385087966919\n",
      "acc_t 0.140625\n",
      "acc_s 0.66796875\n",
      "val_loss : 2.2334771156311035\n",
      "acc_val : 0.125\n",
      "\n",
      "80 : epoch\n"
     ]
    },
    {
     "name": "stderr",
     "output_type": "stream",
     "text": [
      "  8%|▊         | 80/1000 [20:12<3:53:15, 15.21s/it]"
     ]
    },
    {
     "name": "stdout",
     "output_type": "stream",
     "text": [
      "\n",
      "gloss -23947384.0\n",
      "wd_loss 363.5655517578125\n",
      "cls_loss 1.6522010564804077\n",
      "acc_t 0.107421875\n",
      "acc_s 0.69140625\n",
      "val_loss : 2.239365243911743\n",
      "acc_val : 0.125\n",
      "\n",
      "81 : epoch\n"
     ]
    },
    {
     "name": "stderr",
     "output_type": "stream",
     "text": [
      "  8%|▊         | 81/1000 [20:27<3:52:47, 15.20s/it]"
     ]
    },
    {
     "name": "stdout",
     "output_type": "stream",
     "text": [
      "\n",
      "gloss -23482720.0\n",
      "wd_loss 373.9883728027344\n",
      "cls_loss 1.6074988842010498\n",
      "acc_t 0.115234375\n",
      "acc_s 0.705078125\n",
      "val_loss : 2.249380922317505\n",
      "acc_val : 0.11875\n",
      "\n",
      "82 : epoch\n"
     ]
    },
    {
     "name": "stderr",
     "output_type": "stream",
     "text": [
      "  8%|▊         | 82/1000 [20:42<3:52:21, 15.19s/it]"
     ]
    },
    {
     "name": "stdout",
     "output_type": "stream",
     "text": [
      "\n",
      "gloss -26500280.0\n",
      "wd_loss 374.4302062988281\n",
      "cls_loss 1.5852597951889038\n",
      "acc_t 0.1328125\n",
      "acc_s 0.697265625\n",
      "val_loss : 2.2600011348724367\n",
      "acc_val : 0.1125\n",
      "\n",
      "83 : epoch\n"
     ]
    },
    {
     "name": "stderr",
     "output_type": "stream",
     "text": [
      "  8%|▊         | 83/1000 [20:57<3:51:51, 15.17s/it]"
     ]
    },
    {
     "name": "stdout",
     "output_type": "stream",
     "text": [
      "\n",
      "gloss -27449256.0\n",
      "wd_loss 378.0595703125\n",
      "cls_loss 1.5476576089859009\n",
      "acc_t 0.138671875\n",
      "acc_s 0.712890625\n",
      "val_loss : 2.258493518829346\n",
      "acc_val : 0.13125\n",
      "\n",
      "84 : epoch\n"
     ]
    },
    {
     "name": "stderr",
     "output_type": "stream",
     "text": [
      "  8%|▊         | 84/1000 [21:12<3:51:26, 15.16s/it]"
     ]
    },
    {
     "name": "stdout",
     "output_type": "stream",
     "text": [
      "\n",
      "gloss -24052476.0\n",
      "wd_loss 390.9508361816406\n",
      "cls_loss 1.5478981733322144\n",
      "acc_t 0.150390625\n",
      "acc_s 0.677734375\n",
      "val_loss : 2.2493897914886474\n",
      "acc_val : 0.13125\n",
      "\n",
      "85 : epoch\n"
     ]
    },
    {
     "name": "stderr",
     "output_type": "stream",
     "text": [
      "  8%|▊         | 85/1000 [21:27<3:51:18, 15.17s/it]"
     ]
    },
    {
     "name": "stdout",
     "output_type": "stream",
     "text": [
      "\n",
      "gloss -21091104.0\n",
      "wd_loss 400.331787109375\n",
      "cls_loss 1.5623695850372314\n",
      "acc_t 0.162109375\n",
      "acc_s 0.681640625\n",
      "val_loss : 2.246457052230835\n",
      "acc_val : 0.15\n",
      "\n",
      "86 : epoch\n"
     ]
    },
    {
     "name": "stderr",
     "output_type": "stream",
     "text": [
      "  9%|▊         | 86/1000 [21:43<3:50:55, 15.16s/it]"
     ]
    },
    {
     "name": "stdout",
     "output_type": "stream",
     "text": [
      "\n",
      "gloss -24141086.0\n",
      "wd_loss 408.769287109375\n",
      "cls_loss 1.615649938583374\n",
      "acc_t 0.1640625\n",
      "acc_s 0.640625\n",
      "val_loss : 2.245483922958374\n",
      "acc_val : 0.134375\n",
      "\n",
      "87 : epoch\n"
     ]
    },
    {
     "name": "stderr",
     "output_type": "stream",
     "text": [
      "  9%|▊         | 87/1000 [21:58<3:50:30, 15.15s/it]"
     ]
    },
    {
     "name": "stdout",
     "output_type": "stream",
     "text": [
      "\n",
      "gloss -29958796.0\n",
      "wd_loss 425.63427734375\n",
      "cls_loss 1.5924851894378662\n",
      "acc_t 0.1640625\n",
      "acc_s 0.65625\n",
      "val_loss : 2.244818019866943\n",
      "acc_val : 0.134375\n",
      "\n",
      "88 : epoch\n"
     ]
    },
    {
     "name": "stderr",
     "output_type": "stream",
     "text": [
      "  9%|▉         | 88/1000 [22:13<3:50:09, 15.14s/it]"
     ]
    },
    {
     "name": "stdout",
     "output_type": "stream",
     "text": [
      "\n",
      "gloss -44450160.0\n",
      "wd_loss 455.81402587890625\n",
      "cls_loss 1.5563377141952515\n",
      "acc_t 0.142578125\n",
      "acc_s 0.69140625\n",
      "val_loss : 2.2460869789123534\n",
      "acc_val : 0.125\n",
      "\n",
      "89 : epoch\n"
     ]
    },
    {
     "name": "stderr",
     "output_type": "stream",
     "text": [
      "  9%|▉         | 89/1000 [22:28<3:49:52, 15.14s/it]"
     ]
    },
    {
     "name": "stdout",
     "output_type": "stream",
     "text": [
      "\n",
      "gloss -49956152.0\n",
      "wd_loss 457.658935546875\n",
      "cls_loss 1.5301189422607422\n",
      "acc_t 0.142578125\n",
      "acc_s 0.705078125\n",
      "val_loss : 2.248707580566406\n",
      "acc_val : 0.153125\n",
      "\n",
      "90 : epoch\n"
     ]
    },
    {
     "name": "stderr",
     "output_type": "stream",
     "text": [
      "  9%|▉         | 90/1000 [22:43<3:49:58, 15.16s/it]"
     ]
    },
    {
     "name": "stdout",
     "output_type": "stream",
     "text": [
      "\n",
      "gloss -23629508.0\n",
      "wd_loss 464.323974609375\n",
      "cls_loss 1.5116007328033447\n",
      "acc_t 0.1640625\n",
      "acc_s 0.7109375\n",
      "val_loss : 2.2527072429656982\n",
      "acc_val : 0.184375\n",
      "\n",
      "91 : epoch\n"
     ]
    },
    {
     "name": "stderr",
     "output_type": "stream",
     "text": [
      "  9%|▉         | 91/1000 [22:58<3:49:48, 15.17s/it]"
     ]
    },
    {
     "name": "stdout",
     "output_type": "stream",
     "text": [
      "\n",
      "gloss -44737948.0\n",
      "wd_loss 496.2341613769531\n",
      "cls_loss 1.4884076118469238\n",
      "acc_t 0.15625\n",
      "acc_s 0.732421875\n",
      "val_loss : 2.2468692779541017\n",
      "acc_val : 0.1625\n",
      "\n",
      "92 : epoch\n"
     ]
    },
    {
     "name": "stderr",
     "output_type": "stream",
     "text": [
      "  9%|▉         | 92/1000 [23:14<3:49:32, 15.17s/it]"
     ]
    },
    {
     "name": "stdout",
     "output_type": "stream",
     "text": [
      "\n",
      "gloss -70774016.0\n",
      "wd_loss 510.5567626953125\n",
      "cls_loss 1.506098985671997\n",
      "acc_t 0.1640625\n",
      "acc_s 0.693359375\n",
      "val_loss : 2.255035400390625\n",
      "acc_val : 0.14375\n",
      "\n",
      "93 : epoch\n"
     ]
    },
    {
     "name": "stderr",
     "output_type": "stream",
     "text": [
      "  9%|▉         | 93/1000 [23:29<3:49:12, 15.16s/it]"
     ]
    },
    {
     "name": "stdout",
     "output_type": "stream",
     "text": [
      "\n",
      "gloss -45730900.0\n",
      "wd_loss 526.5377197265625\n",
      "cls_loss 1.5451674461364746\n",
      "acc_t 0.158203125\n",
      "acc_s 0.642578125\n",
      "val_loss : 2.254454517364502\n",
      "acc_val : 0.15\n",
      "\n",
      "94 : epoch\n"
     ]
    },
    {
     "name": "stderr",
     "output_type": "stream",
     "text": [
      "  9%|▉         | 94/1000 [23:44<3:48:48, 15.15s/it]"
     ]
    },
    {
     "name": "stdout",
     "output_type": "stream",
     "text": [
      "\n",
      "gloss -61944412.0\n",
      "wd_loss 546.1400756835938\n",
      "cls_loss 1.529097080230713\n",
      "acc_t 0.1796875\n",
      "acc_s 0.63671875\n",
      "val_loss : 2.241388511657715\n",
      "acc_val : 0.15\n",
      "\n",
      "95 : epoch\n"
     ]
    },
    {
     "name": "stderr",
     "output_type": "stream",
     "text": [
      " 10%|▉         | 95/1000 [23:59<3:48:28, 15.15s/it]"
     ]
    },
    {
     "name": "stdout",
     "output_type": "stream",
     "text": [
      "\n",
      "gloss -51304668.0\n",
      "wd_loss 558.46142578125\n",
      "cls_loss 1.5119590759277344\n",
      "acc_t 0.173828125\n",
      "acc_s 0.69921875\n",
      "val_loss : 2.240837049484253\n",
      "acc_val : 0.15625\n",
      "\n",
      "96 : epoch\n"
     ]
    },
    {
     "name": "stderr",
     "output_type": "stream",
     "text": [
      " 10%|▉         | 96/1000 [24:14<3:48:14, 15.15s/it]"
     ]
    },
    {
     "name": "stdout",
     "output_type": "stream",
     "text": [
      "\n",
      "gloss -77284528.0\n",
      "wd_loss 569.763427734375\n",
      "cls_loss 1.4991538524627686\n",
      "acc_t 0.15234375\n",
      "acc_s 0.736328125\n",
      "val_loss : 2.2508286476135253\n",
      "acc_val : 0.140625\n",
      "\n",
      "97 : epoch\n"
     ]
    },
    {
     "name": "stderr",
     "output_type": "stream",
     "text": [
      " 10%|▉         | 97/1000 [24:29<3:48:06, 15.16s/it]"
     ]
    },
    {
     "name": "stdout",
     "output_type": "stream",
     "text": [
      "\n",
      "gloss -83248816.0\n",
      "wd_loss 585.6597900390625\n",
      "cls_loss 1.4993464946746826\n",
      "acc_t 0.1484375\n",
      "acc_s 0.73828125\n",
      "val_loss : 2.2487314224243162\n",
      "acc_val : 0.121875\n",
      "\n",
      "98 : epoch\n"
     ]
    },
    {
     "name": "stderr",
     "output_type": "stream",
     "text": [
      " 10%|▉         | 98/1000 [24:44<3:47:52, 15.16s/it]"
     ]
    },
    {
     "name": "stdout",
     "output_type": "stream",
     "text": [
      "\n",
      "gloss -86153584.0\n",
      "wd_loss 586.5128784179688\n",
      "cls_loss 1.4913039207458496\n",
      "acc_t 0.15625\n",
      "acc_s 0.728515625\n",
      "val_loss : 2.2550512313842774\n",
      "acc_val : 0.1375\n",
      "\n",
      "99 : epoch\n"
     ]
    },
    {
     "name": "stderr",
     "output_type": "stream",
     "text": [
      " 10%|▉         | 99/1000 [25:00<3:47:24, 15.14s/it]"
     ]
    },
    {
     "name": "stdout",
     "output_type": "stream",
     "text": [
      "\n",
      "gloss -94597200.0\n",
      "wd_loss 593.1232299804688\n",
      "cls_loss 1.5016921758651733\n",
      "acc_t 0.15234375\n",
      "acc_s 0.6640625\n",
      "val_loss : 2.2610371112823486\n",
      "acc_val : 0.140625\n",
      "\n",
      "100 : epoch\n"
     ]
    },
    {
     "name": "stderr",
     "output_type": "stream",
     "text": [
      " 10%|█         | 100/1000 [25:15<3:47:06, 15.14s/it]"
     ]
    },
    {
     "name": "stdout",
     "output_type": "stream",
     "text": [
      "\n",
      "gloss -118152504.0\n",
      "wd_loss 613.6976318359375\n",
      "cls_loss 1.4858351945877075\n",
      "acc_t 0.130859375\n",
      "acc_s 0.66015625\n",
      "val_loss : 2.258763837814331\n",
      "acc_val : 0.134375\n",
      "\n",
      "101 : epoch\n"
     ]
    },
    {
     "name": "stderr",
     "output_type": "stream",
     "text": [
      " 10%|█         | 101/1000 [25:30<3:47:01, 15.15s/it]"
     ]
    },
    {
     "name": "stdout",
     "output_type": "stream",
     "text": [
      "\n",
      "gloss -111571528.0\n",
      "wd_loss 632.843505859375\n",
      "cls_loss 1.4689841270446777\n",
      "acc_t 0.130859375\n",
      "acc_s 0.671875\n",
      "val_loss : 2.252983236312866\n",
      "acc_val : 0.146875\n",
      "\n",
      "102 : epoch\n"
     ]
    },
    {
     "name": "stderr",
     "output_type": "stream",
     "text": [
      " 10%|█         | 102/1000 [25:45<3:46:44, 15.15s/it]"
     ]
    },
    {
     "name": "stdout",
     "output_type": "stream",
     "text": [
      "\n",
      "gloss -94006016.0\n",
      "wd_loss 649.6484985351562\n",
      "cls_loss 1.480655312538147\n",
      "acc_t 0.13671875\n",
      "acc_s 0.701171875\n",
      "val_loss : 2.2543187618255613\n",
      "acc_val : 0.146875\n",
      "\n",
      "103 : epoch\n"
     ]
    },
    {
     "name": "stderr",
     "output_type": "stream",
     "text": [
      " 10%|█         | 102/1000 [26:00<3:49:00, 15.30s/it]"
     ]
    },
    {
     "name": "stdout",
     "output_type": "stream",
     "text": [
      "\n",
      "gloss -133394432.0\n",
      "wd_loss 643.0953369140625\n",
      "cls_loss 1.478195309638977\n",
      "acc_t 0.125\n",
      "acc_s 0.70703125\n"
     ]
    },
    {
     "name": "stderr",
     "output_type": "stream",
     "text": [
      "\n"
     ]
    },
    {
     "ename": "KeyboardInterrupt",
     "evalue": "",
     "output_type": "error",
     "traceback": [
      "\u001b[0;31m---------------------------------------------------------------------------\u001b[0m",
      "\u001b[0;31mKeyboardInterrupt\u001b[0m                         Traceback (most recent call last)",
      "Cell \u001b[0;32mIn[7], line 140\u001b[0m\n\u001b[1;32m    138\u001b[0m     temp_accuracy_val \u001b[39m+\u001b[39m\u001b[39m=\u001b[39m ((torch\u001b[39m.\u001b[39margmax(pred_val,\u001b[39m1\u001b[39m)\u001b[39m+\u001b[39m\u001b[39m1\u001b[39m)\u001b[39m==\u001b[39m y_val)\u001b[39m.\u001b[39mto(torch\u001b[39m.\u001b[39mfloat)\u001b[39m.\u001b[39mmean()\n\u001b[1;32m    139\u001b[0m     loss \u001b[39m=\u001b[39m criterion(pred_val, y_val\u001b[39m-\u001b[39m\u001b[39m1\u001b[39m)\n\u001b[0;32m--> 140\u001b[0m     val_loss \u001b[39m+\u001b[39m\u001b[39m=\u001b[39m loss\u001b[39m.\u001b[39;49mitem() \u001b[39m*\u001b[39m x_val\u001b[39m.\u001b[39msize(\u001b[39m0\u001b[39m)\n\u001b[1;32m    141\u001b[0m     temp \u001b[39m+\u001b[39m\u001b[39m=\u001b[39m \u001b[39m1\u001b[39m\n\u001b[1;32m    142\u001b[0m val_total_loss \u001b[39m=\u001b[39m val_loss \u001b[39m/\u001b[39m \u001b[39mlen\u001b[39m(val_dataloader\u001b[39m.\u001b[39mdataset)\n",
      "\u001b[0;31mKeyboardInterrupt\u001b[0m: "
     ]
    }
   ],
   "source": [
    "# train WGAN\n",
    "accuracy_s = []\n",
    "accuracy_t = []\n",
    "accuracy_val = []\n",
    "\n",
    "best_loss = 10000000\n",
    "limit_epoch = 500\n",
    "limit_check = 0\n",
    "val_loss = 0\n",
    "nb_epochs = 1000\n",
    "lambda_hyper = 10\n",
    "mu_hyper = 1\n",
    "n = 5\n",
    "\n",
    "log = open('Wasserstein_log.txt', 'w')\n",
    "\n",
    "torch.autograd.set_detect_anomaly(True)\n",
    "\n",
    "# while parameter converge\n",
    "for epoch in tqdm(range(nb_epochs)):\n",
    "    temp_accuracy_t = 0\n",
    "    temp_accuracy_s = 0\n",
    "    temp_accuracy_val = 0\n",
    "    temp_gloss = 0\n",
    "    temp_wdloss = 0\n",
    "    temp_gradloss = 0\n",
    "    temp_clsloss = 0\n",
    "\n",
    "    print(epoch+1, \": epoch\", file=log)\n",
    "\n",
    "    temp = 0.0 #batch count\n",
    "    fe.train()\n",
    "    dis.train()\n",
    "    classifier.train()\n",
    "    # batch\n",
    "    for i, (target, source) in enumerate(zip(target_dataloader, source_dataloader)):\n",
    "        temp += 1.0\n",
    "\n",
    "        x_target = target[0].to(device)\n",
    "        y_target = target[1].to(device)\n",
    "        x_source = source[0].to(device)\n",
    "        y_source = source[1].to(device)\n",
    "\n",
    "        # update discriminator\n",
    "        for p in fe.parameters() :\n",
    "            p.requires_grad = False\n",
    "        for p in dis.parameters() :\n",
    "            p.requires_grad = True\n",
    "        for p in classifier.parameters() :\n",
    "            p.requires_grad = False\n",
    "        \n",
    "        for k in range(n) :\n",
    "            optimizer_dis.zero_grad()\n",
    "            wd_grad_loss = 0\n",
    "            feat_t = fe(x_target)\n",
    "            feat_s = fe(x_source)\n",
    "            pred_t = classifier(feat_t)\n",
    "            pred_s = classifier(feat_s)\n",
    "            for j in range(feat_s.size(0)) :\n",
    "                epsil = torch.rand(1).item()\n",
    "                feat = epsil*feat_s[j,:]+(1-epsil)*feat_t[j,:]\n",
    "                dc_t = dis(feat_t)\n",
    "                dc_s = dis(feat_s)\n",
    "                wd_loss = Wasserstein_Loss(dc_s, dc_t)\n",
    "                grad_loss = Grad_Loss(feat, dis, device)\n",
    "                wd_grad_loss = wd_grad_loss - (wd_loss-lambda_hyper*grad_loss)\n",
    "            wd_grad_loss = wd_grad_loss / feat_s.size(0)\n",
    "            wd_grad_loss.backward()\n",
    "            optimizer_dis.step()\n",
    "\n",
    "        # update classifier\n",
    "        for p in fe.parameters() :\n",
    "            p.requires_grad = False\n",
    "        for p in dis.parameters() :\n",
    "            p.requires_grad = False\n",
    "        for p in classifier.parameters() :\n",
    "            p.requires_grad = True\n",
    "        \n",
    "        optimizer_cls.zero_grad()\n",
    "        feat_s = fe(x_source)\n",
    "        pred_s = classifier(feat_s)\n",
    "        cls_loss_source = criterion(pred_s, y_source-1)\n",
    "        cls_loss_source.backward()\n",
    "        optimizer_cls.step()\n",
    "        \n",
    "        # update Feature Extractor\n",
    "        for p in fe.parameters() :\n",
    "            p.requires_grad = True\n",
    "        for p in dis.parameters() :\n",
    "            p.requires_grad = False\n",
    "        for p in classifier.parameters() :\n",
    "            p.requires_grad = False\n",
    "        \n",
    "        optimizer_fe.zero_grad()\n",
    "        feat_t = fe(x_target)\n",
    "        feat_s = fe(x_source)\n",
    "        pred_s = classifier(feat_s)\n",
    "        dc_t = dis(feat_t)\n",
    "        dc_s = dis(feat_s)\n",
    "        wd_loss = Wasserstein_Loss(dc_s, dc_t)\n",
    "        cls_loss_source = criterion(pred_s, y_source-1)\n",
    "        fe_loss = cls_loss_source + wd_loss\n",
    "        fe_loss.backward()\n",
    "        optimizer_fe.step()\n",
    "        \n",
    "        # Temp_Loss\n",
    "        wd_loss = Wasserstein_Loss(dc_s, dc_t)\n",
    "        cls_loss_source = criterion(pred_s, y_source-1)\n",
    "        g_loss = cls_loss_source + mu_hyper*(wd_loss - lambda_hyper*grad_loss)\n",
    "\n",
    "        feat_t = fe(x_target)\n",
    "        feat_s = fe(x_source)\n",
    "        pred_t = classifier(feat_t)\n",
    "        pred_s = classifier(feat_s)\n",
    "        \n",
    "        temp_wdloss = temp_wdloss + wd_loss\n",
    "        temp_clsloss = temp_clsloss + cls_loss_source\n",
    "        temp_gloss = temp_gloss + g_loss\n",
    "\n",
    "        temp_accuracy_t += ((torch.argmax(pred_t,1)+1)== y_target).to(torch.float).mean()\n",
    "        temp_accuracy_s += ((torch.argmax(pred_s,1)+1)== y_source).to(torch.float).mean()\n",
    "    \n",
    "    print(\"\\ngloss\", temp_gloss.item()/temp, file=log)\n",
    "    print(\"wd_loss\", temp_wdloss.item()/temp, file=log)\n",
    "    print(\"cls_loss\", temp_clsloss.item()/temp, file=log)\n",
    "    print(\"acc_t\", temp_accuracy_t.item()/temp, file=log)\n",
    "    print(\"acc_s\", temp_accuracy_s.item()/temp, file=log)\n",
    "    \n",
    "    accuracy_t.append(temp_accuracy_t/temp)\n",
    "    accuracy_s.append(temp_accuracy_s/temp)\n",
    "    \n",
    "    fe.eval()\n",
    "    dis.eval()\n",
    "    classifier.eval()\n",
    "    val_loss = 0\n",
    "    temp = 0\n",
    "    for x_val, y_val in val_dataloader:\n",
    "        x_val = x_val.to(device)\n",
    "        y_val = y_val.to(device)\n",
    "        pred_val = classifier(fe(x_val))\n",
    "        temp_accuracy_val += ((torch.argmax(pred_val,1)+1)== y_val).to(torch.float).mean()\n",
    "        loss = criterion(pred_val, y_val-1)\n",
    "        val_loss += loss.item() * x_val.size(0)\n",
    "        temp += 1\n",
    "    val_total_loss = val_loss / len(val_dataloader.dataset)\n",
    "    print(\"val_loss :\", val_total_loss, file=log)\n",
    "    print(\"acc_val :\", temp_accuracy_val.item()/temp, file=log)\n",
    "    accuracy_val.append(temp_accuracy_val.item()/temp)\n",
    "    if val_total_loss > best_loss:\n",
    "        limit_check += 1\n",
    "        if(limit_check >= limit_epoch):\n",
    "            break\n",
    "    else:\n",
    "        best_loss = val_total_loss\n",
    "        limit_check = 0\n",
    "    print()\n",
    "\n",
    "print(\"accuracy_t \", sum(accuracy_t)/len(accuracy_t), file=log)\n",
    "print(\"accuracy_s \", sum(accuracy_s)/len(accuracy_s), file=log)\n",
    "print(\"accuracy_val\", sum(accuracy_val)/len(accuracy_val), file=log)\n",
    "print(\"best_val_loss \", best_loss, file=log)\n",
    "\n",
    "log.close()"
   ]
  }
 ],
 "metadata": {
  "kernelspec": {
   "display_name": "ecg",
   "language": "python",
   "name": "ecg"
  },
  "language_info": {
   "codemirror_mode": {
    "name": "ipython",
    "version": 3
   },
   "file_extension": ".py",
   "mimetype": "text/x-python",
   "name": "python",
   "nbconvert_exporter": "python",
   "pygments_lexer": "ipython3",
   "version": "3.8.16"
  }
 },
 "nbformat": 4,
 "nbformat_minor": 5
}
